{
 "cells": [
  {
   "cell_type": "markdown",
   "metadata": {},
   "source": [
    "### Overfitting and RMSE\n",
    "Although a low RMSE is generally desirable, an RMSE of 0 on the training data indicates overfitting. The overfitted model will predict the observations just as they appeared in training. This leads to poor generalization and when the RMSE is calculated over the test data it will be relatively much higher than when calculated over the training data."
   ]
  },
  {
   "cell_type": "markdown",
   "metadata": {},
   "source": [
    "### Assessing a Model's Generalization Power\n",
    "Since we choose the best model based on based on the test error we need to fine tune the model’s parameters to give the best generalization power. However, we cannot use the error on the test set to pick the parameters for our model or else we will be overfitting the test set. Thus we need another method to assess generalization power."
   ]
  },
  {
   "cell_type": "markdown",
   "metadata": {},
   "source": [
    "### The Train / Validation / Test Approach\n",
    "Instead of using the test set to asses generalization power we can split the data into three sets: training, validation, and test.\n",
    "\n",
    "First we train the model on the training set, then we see how it generalizes on to the validation set. We can then adjust the parameters to find those that perform best on the validation set. This way we can get an idea of a models generalization power and fine tune its parameters without overfitting or even looking at the test set. Once we find the best parameters for the validation set we use these parameters to train the model for comparison on the test set.\n",
    "\n",
    "The test set can then be used to compare only the different models such as the decision tree regressor against a linear regressor, rather than having it compare the same model but with different parameters. This way we can choose the model that best generalized to the test set without overfitting it to the test set."
   ]
  },
  {
   "cell_type": "markdown",
   "metadata": {},
   "source": [
    "### Shortcomings of the Train / Validation / Test Approach\n",
    "Since this approach requires us to use a chunk of data for the validation set we have less data to train the model on. And most models perform worse when given less data to train with. Therefore even by finding the parameters for our model that has the best generalization power we do not as well as we could since we are missing data that could have been used in training.\n",
    "\n",
    "We also may not even find the best parameters for the model since error varies based on what data is present in the training set and validation set. Thus sometimes the validation set will overestimate or underestimate what the test error will be instead of finding the mean likely error."
   ]
  },
  {
   "cell_type": "markdown",
   "metadata": {},
   "source": [
    "### K-fold Cross Validation\n",
    "Cross-validation is technique for assessing how the results of a statistical analysis will generalize to an independent data set. It is mainly used in settings where the goal is prediction, and one wants to estimate how accurately a predictive model will perform in practice.\n",
    "\n",
    "The idea is to hold out part of the available data as a test set. First the training set is split into K parts. K-1 parts are used as training data and 1 part is used for testing. This is repeated K-times, so every part is used as test data, and the average of the accuracies is the cross-validation score. Once we find the best model params, we then use them to train on the full training set. K = 10 is common. "
   ]
  },
  {
   "cell_type": "markdown",
   "metadata": {},
   "source": [
    "Scikit-learn's model_selection module has implemented cross validation."
   ]
  },
  {
   "cell_type": "code",
   "execution_count": 5,
   "metadata": {},
   "outputs": [
    {
     "data": {
      "text/plain": [
       "0.26844688838587416"
      ]
     },
     "execution_count": 5,
     "metadata": {},
     "output_type": "execute_result"
    }
   ],
   "source": [
    "import pandas as pd\n",
    "import numpy as np\n",
    "from sklearn.model_selection import cross_val_score\n",
    "from sklearn.model_selection import train_test_split\n",
    "from sklearn.tree import DecisionTreeRegressor\n",
    "\n",
    "\n",
    "url = 'http://archive.ics.uci.edu/ml/machine-learning-databases/communities/communities.data'\n",
    "crime = pd.read_csv(url, header=None, na_values=['?'])\n",
    "# remove categorical features\n",
    "crime.drop([0, 1, 2, 3, 4], axis=1, inplace=True)\n",
    "# remove rows with any missing values\n",
    "crime.dropna(inplace=True)\n",
    "# check the shape\n",
    "crime.shape\n",
    "X = crime.drop(127, axis=1)\n",
    "y = crime[127]\n",
    "X_train, X_test, y_train, y_test = train_test_split(X, y, random_state=1)\n",
    "tree_reg = DecisionTreeRegressor()\n",
    "tree_reg.fit(X_train, y_train)\n",
    "\n",
    "# Here the cross-validation is used with k=10\n",
    "scores = cross_val_score(tree_reg, X_train, y_train,\n",
    "                        scoring='neg_mean_squared_error', cv=10, )\n",
    "\n",
    "tree_reg_rmse = np.sqrt(np.mean(-scores))\n",
    "tree_reg_rmse"
   ]
  },
  {
   "cell_type": "markdown",
   "metadata": {},
   "source": [
    "### Scoring the K parts of data\n",
    "For scoring the k parts of data we used a function called \"neg_mean_squared_error\". This is simply: 1×𝑀𝑆𝐸\n",
    "\n",
    " \n",
    "The reason for this is that cross_val_score requires similarity function ( as opposed to a distance function).\n",
    "In MSE, the lower the score the better\n",
    "In cross_val_score scoring scheme, the greater the score, the better the model\n",
    "See link below for available scoring functions for regression: http://scikit-learn.org/stable/modules/model_evaluation.html"
   ]
  },
  {
   "cell_type": "markdown",
   "metadata": {},
   "source": [
    "### Random Forest Regressor\n",
    "A random forest is a meta estimator that fits a number of classifying decision trees on various sub-samples of the dataset and uses averaging to improve the predictive accuracy and control over-fitting. The sub-sample size is always the same as the original input sample size but the samples are drawn with replacement if bootstrap=True (default) in scikit-learn.\n",
    "\n",
    "Random Forests works by training many Decision Tree Regressors on random subsets of the features, averaging out the predictions. In general, the class of models wich work by averaging outcomes of a set of other models is called ensemble methods * Subsert of of ensembl machine learning"
   ]
  },
  {
   "cell_type": "code",
   "execution_count": 6,
   "metadata": {},
   "outputs": [],
   "source": [
    "from sklearn.ensemble import RandomForestRegressor\n",
    "\n",
    "forest_reg = RandomForestRegressor(n_estimators=50, max_depth=3, max_features=10)"
   ]
  },
  {
   "cell_type": "markdown",
   "metadata": {},
   "source": [
    "### Random Forest Parameters\n",
    "The number of n_estimators in the RandomForestRegressor defines the number of trees in the ensemble (forest). It is an integer and optional but the default value is 10.\n",
    "\n",
    "max_features is the maximum number of features to consider when looking for the best split. It can be an int, float, string or None. It is optional and the default value is n_features, which is the number of features when fit is performed.\n",
    "\n",
    "max_depth is the maximum depth of the tree. If None, then nodes are expanded until all leaves are pure or until all leaves contain less than min_samples_split samples. Can be int or None, and default is None.\n",
    "\n",
    "The RandomForest Model yields a slightly lower error value than both the DecisionTreeRegressor and the LinearRegression models"
   ]
  },
  {
   "cell_type": "code",
   "execution_count": 7,
   "metadata": {},
   "outputs": [
    {
     "data": {
      "text/plain": [
       "array([0.1827964 , 0.14709633, 0.20862979, 0.16403483, 0.16183092,\n",
       "       0.18703124, 0.1715906 , 0.17778416, 0.1862479 , 0.17744831])"
      ]
     },
     "execution_count": 7,
     "metadata": {},
     "output_type": "execute_result"
    }
   ],
   "source": [
    "scores = cross_val_score(forest_reg, X_train, y_train,\n",
    "                        scoring='neg_mean_squared_error', cv=10)\n",
    "forest_reg_rmse = np.sqrt(-scores)\n",
    "forest_reg_rmse"
   ]
  },
  {
   "cell_type": "code",
   "execution_count": 8,
   "metadata": {},
   "outputs": [
    {
     "name": "stdout",
     "output_type": "stream",
     "text": [
      "score are [0.1827964  0.14709633 0.20862979 0.16403483 0.16183092 0.18703124\n",
      " 0.1715906  0.17778416 0.1862479  0.17744831]\n",
      "\n",
      "mean score is 0.17644904639626924\n"
     ]
    }
   ],
   "source": [
    "print (\"score are %s\\n\" % forest_reg_rmse)\n",
    "print (\"mean score is %s\"  % np.mean(forest_reg_rmse))"
   ]
  },
  {
   "cell_type": "markdown",
   "metadata": {},
   "source": [
    "### Using Grid Search For Finding Params That Minimize Loss\n",
    "Grid search is an exhaustive search over specified parameter values for an estimator. Scikit-Learn offers GridSearchCV (Grid Search Cross-Validation). It takes a list of parameters and some values and exhaustively tries the values using cross-validation. The parameters of the estimator used to apply these methods are optimized by cross-validated grid-search over a parameter grid. The parameters selected are those that maximize the score of the left out data, unless an explicit score is passed in which case it is used instead."
   ]
  },
  {
   "cell_type": "code",
   "execution_count": 9,
   "metadata": {},
   "outputs": [],
   "source": [
    "from sklearn.model_selection import GridSearchCV\n",
    "\n",
    "grid_search_params = [{'n_estimators':[3, 9, 27, 50, 81], 'max_features': [2, 3, 4, 5, 7, 9, 11]}]\n",
    "\n",
    "forest_reg = RandomForestRegressor()\n",
    "\n",
    "grid_search = GridSearchCV(forest_reg, \n",
    "                           param_grid=grid_search_params, \n",
    "                           cv=10, \n",
    "                           scoring = 'neg_mean_squared_error'\n",
    "                          )"
   ]
  },
  {
   "cell_type": "markdown",
   "metadata": {},
   "source": [
    "Note that with many parameters and a high K/cv the time to execute the grid search could be very long if you have a large training set. The above search cases represent 35 different combination for n_estimators and max_features\n",
    "Each of the tests is carried out using cros-validation with k=10."
   ]
  },
  {
   "cell_type": "code",
   "execution_count": 10,
   "metadata": {},
   "outputs": [
    {
     "data": {
      "text/plain": [
       "GridSearchCV(cv=10, error_score='raise-deprecating',\n",
       "       estimator=RandomForestRegressor(bootstrap=True, criterion='mse', max_depth=None,\n",
       "           max_features='auto', max_leaf_nodes=None,\n",
       "           min_impurity_decrease=0.0, min_impurity_split=None,\n",
       "           min_samples_leaf=1, min_samples_split=2,\n",
       "           min_weight_fraction_leaf=0.0, n_estimators='warn', n_jobs=None,\n",
       "           oob_score=False, random_state=None, verbose=0, warm_start=False),\n",
       "       fit_params=None, iid='warn', n_jobs=None,\n",
       "       param_grid=[{'n_estimators': [3, 9, 27, 50, 81], 'max_features': [2, 3, 4, 5, 7, 9, 11]}],\n",
       "       pre_dispatch='2*n_jobs', refit=True, return_train_score='warn',\n",
       "       scoring='neg_mean_squared_error', verbose=0)"
      ]
     },
     "execution_count": 10,
     "metadata": {},
     "output_type": "execute_result"
    }
   ],
   "source": [
    "grid_search.fit(X_train, y_train)"
   ]
  },
  {
   "cell_type": "markdown",
   "metadata": {},
   "source": [
    "Grid search has many attributes. Bewlo best_params_ is shown. It returns the parameter setting that gave the best results on the hold out data.\n",
    "\n",
    "The best estimators was generated from max_features = 3 and n_estimators = 27 is seen in cell below"
   ]
  },
  {
   "cell_type": "code",
   "execution_count": 14,
   "metadata": {},
   "outputs": [
    {
     "data": {
      "text/plain": [
       "{'max_features': 11, 'n_estimators': 81}"
      ]
     },
     "execution_count": 14,
     "metadata": {},
     "output_type": "execute_result"
    }
   ],
   "source": [
    "grid_search.best_params_"
   ]
  },
  {
   "cell_type": "markdown",
   "metadata": {},
   "source": [
    "best_score_ returns the mean cross-validated score of the best_estimator as shown in the cell below"
   ]
  },
  {
   "cell_type": "code",
   "execution_count": 15,
   "metadata": {},
   "outputs": [
    {
     "name": "stdout",
     "output_type": "stream",
     "text": [
      "{'max_features': 2, 'n_estimators': 3} 0.22413893297199872\n",
      "{'max_features': 2, 'n_estimators': 9} 0.19330526362329165\n",
      "{'max_features': 2, 'n_estimators': 27} 0.17846758122631534\n",
      "{'max_features': 2, 'n_estimators': 50} 0.1777225123071164\n",
      "{'max_features': 2, 'n_estimators': 81} 0.17913012080135304\n",
      "{'max_features': 3, 'n_estimators': 3} 0.21827607391659867\n",
      "{'max_features': 3, 'n_estimators': 9} 0.1873799906933427\n",
      "{'max_features': 3, 'n_estimators': 27} 0.17505003847522432\n",
      "{'max_features': 3, 'n_estimators': 50} 0.1751857491195008\n",
      "{'max_features': 3, 'n_estimators': 81} 0.17506400115212334\n",
      "{'max_features': 4, 'n_estimators': 3} 0.21632587725394417\n",
      "{'max_features': 4, 'n_estimators': 9} 0.17668080315595366\n",
      "{'max_features': 4, 'n_estimators': 27} 0.17863703351308077\n",
      "{'max_features': 4, 'n_estimators': 50} 0.17315107825128204\n",
      "{'max_features': 4, 'n_estimators': 81} 0.17146805701830553\n",
      "{'max_features': 5, 'n_estimators': 3} 0.19857640719193945\n",
      "{'max_features': 5, 'n_estimators': 9} 0.18540888704542538\n",
      "{'max_features': 5, 'n_estimators': 27} 0.1761692266567677\n",
      "{'max_features': 5, 'n_estimators': 50} 0.17030447604414117\n",
      "{'max_features': 5, 'n_estimators': 81} 0.17125877856992966\n",
      "{'max_features': 7, 'n_estimators': 3} 0.1929083242666375\n",
      "{'max_features': 7, 'n_estimators': 9} 0.17415062891569769\n",
      "{'max_features': 7, 'n_estimators': 27} 0.17284630870735274\n",
      "{'max_features': 7, 'n_estimators': 50} 0.17348868797001285\n",
      "{'max_features': 7, 'n_estimators': 81} 0.1729264656200367\n",
      "{'max_features': 9, 'n_estimators': 3} 0.2075965493201482\n",
      "{'max_features': 9, 'n_estimators': 9} 0.17525588061243522\n",
      "{'max_features': 9, 'n_estimators': 27} 0.17890737164123474\n",
      "{'max_features': 9, 'n_estimators': 50} 0.16840082936418077\n",
      "{'max_features': 9, 'n_estimators': 81} 0.1681716636270426\n",
      "{'max_features': 11, 'n_estimators': 3} 0.1843176315692531\n",
      "{'max_features': 11, 'n_estimators': 9} 0.1796141786271426\n",
      "{'max_features': 11, 'n_estimators': 27} 0.1689438625285178\n",
      "{'max_features': 11, 'n_estimators': 50} 0.17085421665057124\n",
      "{'max_features': 11, 'n_estimators': 81} 0.16770170180301133\n"
     ]
    }
   ],
   "source": [
    "cv_scores = grid_search.cv_results_\n",
    "for i in range(len(cv_scores['params'])):\n",
    "    params, mean_score =  cv_scores['params'][i], cv_scores['mean_test_score'][i]\n",
    "    print(params, np.sqrt(-mean_score))"
   ]
  },
  {
   "cell_type": "markdown",
   "metadata": {},
   "source": [
    "best_estimator_ returns the estimator that was chosen by the search, i.e. estimator which gave highest score (or smallest loss if specified) on the left out data"
   ]
  },
  {
   "cell_type": "code",
   "execution_count": 16,
   "metadata": {},
   "outputs": [
    {
     "data": {
      "text/plain": [
       "RandomForestRegressor(bootstrap=True, criterion='mse', max_depth=None,\n",
       "           max_features=11, max_leaf_nodes=None, min_impurity_decrease=0.0,\n",
       "           min_impurity_split=None, min_samples_leaf=1,\n",
       "           min_samples_split=2, min_weight_fraction_leaf=0.0,\n",
       "           n_estimators=81, n_jobs=None, oob_score=False,\n",
       "           random_state=None, verbose=0, warm_start=False)"
      ]
     },
     "execution_count": 16,
     "metadata": {},
     "output_type": "execute_result"
    }
   ],
   "source": [
    "grid_search.best_estimator_"
   ]
  },
  {
   "cell_type": "code",
   "execution_count": 17,
   "metadata": {},
   "outputs": [],
   "source": [
    "# Let's predict the new values using this best estimator found uisng the grid search\n",
    "\n",
    "training_set_predictions_rand_forest = grid_search.best_estimator_.predict(X_train)"
   ]
  },
  {
   "cell_type": "code",
   "execution_count": 19,
   "metadata": {},
   "outputs": [
    {
     "data": {
      "text/plain": [
       "Text(0, 0.5, 'Measured  a1')"
      ]
     },
     "execution_count": 19,
     "metadata": {},
     "output_type": "execute_result"
    },
    {
     "data": {
      "image/png": "[encoded data removed]",
      "text/plain": [
       "<Figure size 720x576 with 1 Axes>"
      ]
     },
     "metadata": {
      "needs_background": "light"
     },
     "output_type": "display_data"
    }
   ],
   "source": [
    "import matplotlib.pyplot as plt\n",
    "%matplotlib inline\n",
    "plt.figure(figsize=(10,8))\n",
    "\n",
    "plt.scatter(training_set_predictions_rand_forest, y_train.values)\n",
    "plt.plot(\n",
    "    [0,1.5],\n",
    "    [0,1.5],\n",
    "    color='r', linewidth =2, linestyle = '--')\n",
    "\n",
    "plt.xlabel(\"Prediction for a1\")\n",
    "plt.ylabel(\"Measured  a1\")"
   ]
  },
  {
   "cell_type": "markdown",
   "metadata": {},
   "source": [
    "### Testing\n",
    "Once we have tweaked all the parameters for all models, we can use the test data to compare the models' generalization performance. The approach is the same as that followed above:\n",
    "For each of model, we run the prediction on test data and compare the predicted with the observed values\n",
    "We select the model that makes the smallest error\n",
    "We determine whether the generalized performance is sufficient for our application\n",
    "The performance requirements for a patient-facing application are perhaps not the same as those for an application for predicting algae blooms\n",
    "Not that in this approach, we are rewarding models that generalize well even if they are more complex\n",
    "We don't penalize complex models if they result is high generalization performance\n",
    "Between models with relatively similar generalization performance, we need to choose the one with fewer parameters"
   ]
  }
 ],
 "metadata": {
  "kernelspec": {
   "display_name": "Python 3",
   "language": "python",
   "name": "python3"
  },
  "language_info": {
   "codemirror_mode": {
    "name": "ipython",
    "version": 3
   },
   "file_extension": ".py",
   "mimetype": "text/x-python",
   "name": "python",
   "nbconvert_exporter": "python",
   "pygments_lexer": "ipython3",
   "version": "3.7.1"
  }
 },
 "nbformat": 4,
 "nbformat_minor": 2
}
