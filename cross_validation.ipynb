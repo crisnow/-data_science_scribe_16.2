{
 "cells": [
  {
   "cell_type": "code",
   "execution_count": 34,
   "metadata": {
    "slideshow": {
     "slide_type": "skip"
    }
   },
   "outputs": [],
   "source": [
    "import numpy as np\n",
    "import matplotlib.pyplot as plt\n",
    "from sklearn import metrics\n",
    "import numpy as np\n",
    "\n",
    "from sklearn.metrics import mean_squared_error\n",
    "\n",
    "\n",
    "%matplotlib inline\n"
   ]
  },
  {
   "cell_type": "markdown",
   "metadata": {
    "slideshow": {
     "slide_type": "slide"
    }
   },
   "source": [
    "### Linear Regression Performance\n",
    "\n",
    "* The RMSE is a common measure for assessing a regression model performance \n",
    "\n",
    "```python\n",
    " \n",
    "training_set_predictions_linreg = lin_reg.predict(train_set_X)\n",
    "\n",
    "rmse_error = \"rmse is %s:\" % \\\n",
    "        np.sqrt(\n",
    "            np.mean(\n",
    "                np.abs(\n",
    "                    training_set_predictions_linreg - train_set_Y\n",
    "                )**2\n",
    "            )\n",
    "        )\n",
    "print rmse_error\n",
    "```"
   ]
  },
  {
   "cell_type": "markdown",
   "metadata": {
    "collapsed": true,
    "slideshow": {
     "slide_type": "slide"
    }
   },
   "source": [
    "### RMSE: `skelearn`\n",
    "\n",
    "```python\n",
    "from sklearn.metrics import mean_squared_error\n",
    "lin_mse = mean_squared_error(train_set_Y.reshape(-1,1),  training_set_predictions_linreg.reshape(-1,1))\n",
    "lin_rmse = np.sqrt(lin_mse)\n",
    "lin_rmse\n",
    "```"
   ]
  },
  {
   "cell_type": "markdown",
   "metadata": {
    "slideshow": {
     "slide_type": "slide"
    }
   },
   "source": [
    "### Visualizing the RMSE\n",
    "\n",
    "* The most popular approaches for visualizing the errors are:\n",
    "  1. As the distribution of errors\n",
    "  2. Deviation from the diagonal (prediction == observed value)\n",
    "  "
   ]
  },
  {
   "cell_type": "markdown",
   "metadata": {
    "slideshow": {
     "slide_type": "slide"
    }
   },
   "source": [
    "### RMSE: Distribution of Errors\n",
    "Example:\n",
    "    \n",
    "<img src=\"images/dist_errors.png\" alt=\"drawing\" style=\"width:400px;\"/>\n",
    "\n",
    "* The model does relatively well for middle and hight values, but does poorly at predicting low and high values"
   ]
  },
  {
   "cell_type": "markdown",
   "metadata": {
    "slideshow": {
     "slide_type": "slide"
    }
   },
   "source": [
    "### RMSE: Deviation from the diagonal (prediction == observed value)\n",
    "\n",
    "\n",
    "<img src=\"images/rmse_diag.png\" alt=\"drawing\" style=\"width:400px;\"/>\n"
   ]
  },
  {
   "cell_type": "code",
   "execution_count": 2,
   "metadata": {
    "slideshow": {
     "slide_type": "slide"
    }
   },
   "outputs": [
    {
     "data": {
      "text/html": [
       "<div>\n",
       "<style scoped>\n",
       "    .dataframe tbody tr th:only-of-type {\n",
       "        vertical-align: middle;\n",
       "    }\n",
       "\n",
       "    .dataframe tbody tr th {\n",
       "        vertical-align: top;\n",
       "    }\n",
       "\n",
       "    .dataframe thead th {\n",
       "        text-align: right;\n",
       "    }\n",
       "</style>\n",
       "<table border=\"1\" class=\"dataframe\">\n",
       "  <thead>\n",
       "    <tr style=\"text-align: right;\">\n",
       "      <th></th>\n",
       "      <th>0</th>\n",
       "      <th>1</th>\n",
       "      <th>2</th>\n",
       "      <th>3</th>\n",
       "      <th>4</th>\n",
       "      <th>5</th>\n",
       "      <th>6</th>\n",
       "      <th>7</th>\n",
       "      <th>8</th>\n",
       "      <th>9</th>\n",
       "      <th>...</th>\n",
       "      <th>118</th>\n",
       "      <th>119</th>\n",
       "      <th>120</th>\n",
       "      <th>121</th>\n",
       "      <th>122</th>\n",
       "      <th>123</th>\n",
       "      <th>124</th>\n",
       "      <th>125</th>\n",
       "      <th>126</th>\n",
       "      <th>127</th>\n",
       "    </tr>\n",
       "  </thead>\n",
       "  <tbody>\n",
       "    <tr>\n",
       "      <th>0</th>\n",
       "      <td>8</td>\n",
       "      <td>NaN</td>\n",
       "      <td>NaN</td>\n",
       "      <td>Lakewoodcity</td>\n",
       "      <td>1</td>\n",
       "      <td>0.19</td>\n",
       "      <td>0.33</td>\n",
       "      <td>0.02</td>\n",
       "      <td>0.90</td>\n",
       "      <td>0.12</td>\n",
       "      <td>...</td>\n",
       "      <td>0.12</td>\n",
       "      <td>0.26</td>\n",
       "      <td>0.20</td>\n",
       "      <td>0.06</td>\n",
       "      <td>0.04</td>\n",
       "      <td>0.9</td>\n",
       "      <td>0.5</td>\n",
       "      <td>0.32</td>\n",
       "      <td>0.14</td>\n",
       "      <td>0.20</td>\n",
       "    </tr>\n",
       "    <tr>\n",
       "      <th>1</th>\n",
       "      <td>53</td>\n",
       "      <td>NaN</td>\n",
       "      <td>NaN</td>\n",
       "      <td>Tukwilacity</td>\n",
       "      <td>1</td>\n",
       "      <td>0.00</td>\n",
       "      <td>0.16</td>\n",
       "      <td>0.12</td>\n",
       "      <td>0.74</td>\n",
       "      <td>0.45</td>\n",
       "      <td>...</td>\n",
       "      <td>0.02</td>\n",
       "      <td>0.12</td>\n",
       "      <td>0.45</td>\n",
       "      <td>NaN</td>\n",
       "      <td>NaN</td>\n",
       "      <td>NaN</td>\n",
       "      <td>NaN</td>\n",
       "      <td>0.00</td>\n",
       "      <td>NaN</td>\n",
       "      <td>0.67</td>\n",
       "    </tr>\n",
       "    <tr>\n",
       "      <th>2</th>\n",
       "      <td>24</td>\n",
       "      <td>NaN</td>\n",
       "      <td>NaN</td>\n",
       "      <td>Aberdeentown</td>\n",
       "      <td>1</td>\n",
       "      <td>0.00</td>\n",
       "      <td>0.42</td>\n",
       "      <td>0.49</td>\n",
       "      <td>0.56</td>\n",
       "      <td>0.17</td>\n",
       "      <td>...</td>\n",
       "      <td>0.01</td>\n",
       "      <td>0.21</td>\n",
       "      <td>0.02</td>\n",
       "      <td>NaN</td>\n",
       "      <td>NaN</td>\n",
       "      <td>NaN</td>\n",
       "      <td>NaN</td>\n",
       "      <td>0.00</td>\n",
       "      <td>NaN</td>\n",
       "      <td>0.43</td>\n",
       "    </tr>\n",
       "    <tr>\n",
       "      <th>3</th>\n",
       "      <td>34</td>\n",
       "      <td>5.0</td>\n",
       "      <td>81440.0</td>\n",
       "      <td>Willingborotownship</td>\n",
       "      <td>1</td>\n",
       "      <td>0.04</td>\n",
       "      <td>0.77</td>\n",
       "      <td>1.00</td>\n",
       "      <td>0.08</td>\n",
       "      <td>0.12</td>\n",
       "      <td>...</td>\n",
       "      <td>0.02</td>\n",
       "      <td>0.39</td>\n",
       "      <td>0.28</td>\n",
       "      <td>NaN</td>\n",
       "      <td>NaN</td>\n",
       "      <td>NaN</td>\n",
       "      <td>NaN</td>\n",
       "      <td>0.00</td>\n",
       "      <td>NaN</td>\n",
       "      <td>0.12</td>\n",
       "    </tr>\n",
       "    <tr>\n",
       "      <th>4</th>\n",
       "      <td>42</td>\n",
       "      <td>95.0</td>\n",
       "      <td>6096.0</td>\n",
       "      <td>Bethlehemtownship</td>\n",
       "      <td>1</td>\n",
       "      <td>0.01</td>\n",
       "      <td>0.55</td>\n",
       "      <td>0.02</td>\n",
       "      <td>0.95</td>\n",
       "      <td>0.09</td>\n",
       "      <td>...</td>\n",
       "      <td>0.04</td>\n",
       "      <td>0.09</td>\n",
       "      <td>0.02</td>\n",
       "      <td>NaN</td>\n",
       "      <td>NaN</td>\n",
       "      <td>NaN</td>\n",
       "      <td>NaN</td>\n",
       "      <td>0.00</td>\n",
       "      <td>NaN</td>\n",
       "      <td>0.03</td>\n",
       "    </tr>\n",
       "  </tbody>\n",
       "</table>\n",
       "<p>5 rows × 128 columns</p>\n",
       "</div>"
      ],
      "text/plain": [
       "   0     1        2                    3    4     5     6     7     8     9    \\\n",
       "0    8   NaN      NaN         Lakewoodcity    1  0.19  0.33  0.02  0.90  0.12   \n",
       "1   53   NaN      NaN          Tukwilacity    1  0.00  0.16  0.12  0.74  0.45   \n",
       "2   24   NaN      NaN         Aberdeentown    1  0.00  0.42  0.49  0.56  0.17   \n",
       "3   34   5.0  81440.0  Willingborotownship    1  0.04  0.77  1.00  0.08  0.12   \n",
       "4   42  95.0   6096.0    Bethlehemtownship    1  0.01  0.55  0.02  0.95  0.09   \n",
       "\n",
       "   ...   118   119   120   121   122  123  124   125   126   127  \n",
       "0  ...  0.12  0.26  0.20  0.06  0.04  0.9  0.5  0.32  0.14  0.20  \n",
       "1  ...  0.02  0.12  0.45   NaN   NaN  NaN  NaN  0.00   NaN  0.67  \n",
       "2  ...  0.01  0.21  0.02   NaN   NaN  NaN  NaN  0.00   NaN  0.43  \n",
       "3  ...  0.02  0.39  0.28   NaN   NaN  NaN  NaN  0.00   NaN  0.12  \n",
       "4  ...  0.04  0.09  0.02   NaN   NaN  NaN  NaN  0.00   NaN  0.03  \n",
       "\n",
       "[5 rows x 128 columns]"
      ]
     },
     "execution_count": 2,
     "metadata": {},
     "output_type": "execute_result"
    }
   ],
   "source": [
    "import pandas as pd\n",
    "url = 'http://archive.ics.uci.edu/ml/machine-learning-databases/communities/communities.data'\n",
    "crime = pd.read_csv(url, header=None, na_values=['?'])\n",
    "crime.head()\n",
    "\n"
   ]
  },
  {
   "cell_type": "code",
   "execution_count": 3,
   "metadata": {
    "slideshow": {
     "slide_type": "slide"
    }
   },
   "outputs": [
    {
     "data": {
      "text/plain": [
       "(1994, 128)"
      ]
     },
     "execution_count": 3,
     "metadata": {},
     "output_type": "execute_result"
    }
   ],
   "source": [
    "crime.shape"
   ]
  },
  {
   "cell_type": "markdown",
   "metadata": {
    "slideshow": {
     "slide_type": "slide"
    }
   },
   "source": [
    "<img src=\"images/data_info.png\" alt=\"drawing\" style=\"width:900px;\"/>\n"
   ]
  },
  {
   "cell_type": "code",
   "execution_count": 4,
   "metadata": {
    "slideshow": {
     "slide_type": "slide"
    }
   },
   "outputs": [
    {
     "data": {
      "text/plain": [
       "(319, 123)"
      ]
     },
     "execution_count": 4,
     "metadata": {},
     "output_type": "execute_result"
    }
   ],
   "source": [
    "# remove categorical features\n",
    "crime.drop([0, 1, 2, 3, 4], axis=1, inplace=True)\n",
    "# remove rows with any missing values\n",
    "crime.dropna(inplace=True)\n",
    "# check the shape\n",
    "crime.shape\n",
    "\n",
    "\n"
   ]
  },
  {
   "cell_type": "code",
   "execution_count": 8,
   "metadata": {
    "slideshow": {
     "slide_type": "skip"
    }
   },
   "outputs": [
    {
     "data": {
      "text/plain": [
       "'\\n@attribute ViolentCrimesPerPop numeric'"
      ]
     },
     "execution_count": 8,
     "metadata": {},
     "output_type": "execute_result"
    }
   ],
   "source": [
    "cols = \"\"\"@attribute state numeric,\n",
    "@attribute county numeric,\n",
    "@attribute community numeric,\n",
    "@attribute communityname string,\n",
    "@attribute fold numeric,\n",
    "@attribute population numeric,\n",
    "@attribute householdsize numeric,\n",
    "@attribute racepctblack numeric,\n",
    "@attribute racePctWhite numeric,\n",
    "@attribute racePctAsian numeric,\n",
    "@attribute racePctHisp numeric,\n",
    "@attribute agePct12t21 numeric,\n",
    "@attribute agePct12t29 numeric,\n",
    "@attribute agePct16t24 numeric,\n",
    "@attribute agePct65up numeric,\n",
    "@attribute numbUrban numeric,\n",
    "@attribute pctUrban numeric,\n",
    "@attribute medIncome numeric,\n",
    "@attribute pctWWage numeric,\n",
    "@attribute pctWFarmSelf numeric,\n",
    "@attribute pctWInvInc numeric,\n",
    "@attribute pctWSocSec numeric,\n",
    "@attribute pctWPubAsst numeric,\n",
    "@attribute pctWRetire numeric,\n",
    "@attribute medFamInc numeric,\n",
    "@attribute perCapInc numeric,\n",
    "@attribute whitePerCap numeric,\n",
    "@attribute blackPerCap numeric,\n",
    "@attribute indianPerCap numeric,\n",
    "@attribute AsianPerCap numeric,\n",
    "@attribute OtherPerCap numeric,\n",
    "@attribute HispPerCap numeric,\n",
    "@attribute NumUnderPov numeric,\n",
    "@attribute PctPopUnderPov numeric,\n",
    "@attribute PctLess9thGrade numeric,\n",
    "@attribute PctNotHSGrad numeric,\n",
    "@attribute PctBSorMore numeric,\n",
    "@attribute PctUnemployed numeric,\n",
    "@attribute PctEmploy numeric,\n",
    "@attribute PctEmplManu numeric,\n",
    "@attribute PctEmplProfServ numeric,\n",
    "@attribute PctOccupManu numeric,\n",
    "@attribute PctOccupMgmtProf numeric,\n",
    "@attribute MalePctDivorce numeric,\n",
    "@attribute MalePctNevMarr numeric,\n",
    "@attribute FemalePctDiv numeric,\n",
    "@attribute TotalPctDiv numeric,\n",
    "@attribute PersPerFam numeric,\n",
    "@attribute PctFam2Par numeric,\n",
    "@attribute PctKids2Par numeric,\n",
    "@attribute PctYoungKids2Par numeric,\n",
    "@attribute PctTeen2Par numeric,\n",
    "@attribute PctWorkMomYoungKids numeric,\n",
    "@attribute PctWorkMom numeric,\n",
    "@attribute NumIlleg numeric,\n",
    "@attribute PctIlleg numeric,\n",
    "@attribute NumImmig numeric,\n",
    "@attribute PctImmigRecent numeric,\n",
    "@attribute PctImmigRec5 numeric,\n",
    "@attribute PctImmigRec8 numeric,\n",
    "@attribute PctImmigRec10 numeric,\n",
    "@attribute PctRecentImmig numeric,\n",
    "@attribute PctRecImmig5 numeric,\n",
    "@attribute PctRecImmig8 numeric,\n",
    "@attribute PctRecImmig10 numeric,\n",
    "@attribute PctSpeakEnglOnly numeric,\n",
    "@attribute PctNotSpeakEnglWell numeric,\n",
    "@attribute PctLargHouseFam numeric,\n",
    "@attribute PctLargHouseOccup numeric,\n",
    "@attribute PersPerOccupHous numeric,\n",
    "@attribute PersPerOwnOccHous numeric,\n",
    "@attribute PersPerRentOccHous numeric,\n",
    "@attribute PctPersOwnOccup numeric,\n",
    "@attribute PctPersDenseHous numeric,\n",
    "@attribute PctHousLess3BR numeric,\n",
    "@attribute MedNumBR numeric,\n",
    "@attribute HousVacant numeric,\n",
    "@attribute PctHousOccup numeric,\n",
    "@attribute PctHousOwnOcc numeric,\n",
    "@attribute PctVacantBoarded numeric,\n",
    "@attribute PctVacMore6Mos numeric,\n",
    "@attribute MedYrHousBuilt numeric,\n",
    "@attribute PctHousNoPhone numeric,\n",
    "@attribute PctWOFullPlumb numeric,\n",
    "@attribute OwnOccLowQuart numeric,\n",
    "@attribute OwnOccMedVal numeric,\n",
    "@attribute OwnOccHiQuart numeric,\n",
    "@attribute RentLowQ numeric,\n",
    "@attribute RentMedian numeric,\n",
    "@attribute RentHighQ numeric,\n",
    "@attribute MedRent numeric,\n",
    "@attribute MedRentPctHousInc numeric,\n",
    "@attribute MedOwnCostPctInc numeric,\n",
    "@attribute MedOwnCostPctIncNoMtg numeric,\n",
    "@attribute NumInShelters numeric,\n",
    "@attribute NumStreet numeric,\n",
    "@attribute PctForeignBorn numeric,\n",
    "@attribute PctBornSameState numeric,\n",
    "@attribute PctSameHouse85 numeric,\n",
    "@attribute PctSameCity85 numeric,\n",
    "@attribute PctSameState85 numeric,\n",
    "@attribute LemasSwornFT numeric,\n",
    "@attribute LemasSwFTPerPop numeric,\n",
    "@attribute LemasSwFTFieldOps numeric,\n",
    "@attribute LemasSwFTFieldPerPop numeric,\n",
    "@attribute LemasTotalReq numeric,\n",
    "@attribute LemasTotReqPerPop numeric,\n",
    "@attribute PolicReqPerOffic numeric,\n",
    "@attribute PolicPerPop numeric,\n",
    "@attribute RacialMatchCommPol numeric,\n",
    "@attribute PctPolicWhite numeric,\n",
    "@attribute PctPolicBlack numeric,\n",
    "@attribute PctPolicHisp numeric,\n",
    "@attribute PctPolicAsian numeric,\n",
    "@attribute PctPolicMinor numeric,\n",
    "@attribute OfficAssgnDrugUnits numeric,\n",
    "@attribute NumKindsDrugsSeiz numeric,\n",
    "@attribute PolicAveOTWorked numeric,\n",
    "@attribute LandArea numeric,\n",
    "@attribute PopDens numeric,\n",
    "@attribute PctUsePubTrans numeric,\n",
    "@attribute PolicCars numeric,\n",
    "@attribute PolicOperBudg numeric,\n",
    "@attribute LemasPctPolicOnPatr numeric,\n",
    "@attribute LemasGangUnitDeploy numeric,\n",
    "@attribute LemasPctOfficDrugUn numeric,\n",
    "@attribute PolicBudgPerPop numeric,\n",
    "@attribute ViolentCrimesPerPop numeric\"\"\".split(\",\")\n",
    "cols[127]"
   ]
  },
  {
   "cell_type": "code",
   "execution_count": 205,
   "metadata": {
    "slideshow": {
     "slide_type": "slide"
    }
   },
   "outputs": [
    {
     "name": "stdout",
     "output_type": "stream",
     "text": [
      "Col 127 is @attribute ViolentCrimesPerPop numeric: \n",
      "The total number of violent crimes per 100K population\n"
     ]
    }
   ],
   "source": [
    "\n",
    "\n",
    "print(\"Col {} is {}: \\nThe total number of violent crimes per 100K population\".format(127, cols[127][1:]))\n"
   ]
  },
  {
   "cell_type": "code",
   "execution_count": 11,
   "metadata": {
    "slideshow": {
     "slide_type": "slide"
    }
   },
   "outputs": [
    {
     "data": {
      "text/plain": [
       "LinearRegression(copy_X=True, fit_intercept=True, n_jobs=None,\n",
       "         normalize=False)"
      ]
     },
     "execution_count": 11,
     "metadata": {},
     "output_type": "execute_result"
    }
   ],
   "source": [
    "X = crime.drop(127, axis=1)\n",
    "y = crime[127]\n",
    "\n",
    "from sklearn.model_selection import train_test_split\n",
    "X_train, X_test, y_train, y_test = train_test_split(X, y, random_state=1)\n",
    "\n",
    "\n",
    "from sklearn.linear_model import LinearRegression\n",
    "linreg = LinearRegression()\n",
    "linreg.fit(X_train, y_train)\n",
    "\n",
    "\n"
   ]
  },
  {
   "cell_type": "code",
   "execution_count": 47,
   "metadata": {
    "slideshow": {
     "slide_type": "slide"
    }
   },
   "outputs": [
    {
     "name": "stdout",
     "output_type": "stream",
     "text": [
      "0.4411912225705328\n",
      "0.27635058478113994\n"
     ]
    },
    {
     "data": {
      "image/png": "[encoded data removed]",
      "text/plain": [
       "<Figure size 864x432 with 1 Axes>"
      ]
     },
     "metadata": {
      "needs_background": "light"
     },
     "output_type": "display_data"
    }
   ],
   "source": [
    "plt.figure(figsize=(12,6))\n",
    "y.plot.kde(bw_method=0.81)\n",
    "print(y.mean())\n",
    "print(y.std())"
   ]
  },
  {
   "cell_type": "code",
   "execution_count": 38,
   "metadata": {
    "slideshow": {
     "slide_type": "slide"
    }
   },
   "outputs": [
    {
     "data": {
      "text/plain": [
       "array([[ 2.75879261e-01],\n",
       "       [ 5.37851303e-01],\n",
       "       [ 8.83251984e-01],\n",
       "       [ 3.57310261e-01],\n",
       "       [ 1.14228457e-01],\n",
       "       [ 5.86426333e-01],\n",
       "       [ 3.75969778e-01],\n",
       "       [ 3.72764092e-01],\n",
       "       [ 8.75800104e-01],\n",
       "       [ 6.03127916e-01],\n",
       "       [ 2.30581661e-01],\n",
       "       [ 4.10579769e-01],\n",
       "       [ 5.73085598e-04],\n",
       "       [ 2.89434958e-01],\n",
       "       [ 6.95896441e-01],\n",
       "       [ 2.78749440e-01],\n",
       "       [ 4.05961994e-01],\n",
       "       [ 8.77497349e-01],\n",
       "       [ 5.25592788e-01],\n",
       "       [ 4.27271931e-01],\n",
       "       [ 2.97029319e-01],\n",
       "       [ 4.80713569e-01],\n",
       "       [ 2.27344509e-01],\n",
       "       [ 1.01378520e+00],\n",
       "       [ 3.54887846e-01],\n",
       "       [ 7.11239473e-02],\n",
       "       [ 4.35513173e-01],\n",
       "       [ 5.15605536e-01],\n",
       "       [ 1.07040859e-01],\n",
       "       [ 7.96427080e-01],\n",
       "       [ 6.74178183e-01],\n",
       "       [ 1.68646105e-01],\n",
       "       [ 2.53183142e-01],\n",
       "       [ 1.06952462e-01],\n",
       "       [ 8.98225951e-01],\n",
       "       [-3.51729544e-02],\n",
       "       [ 1.89434710e-01],\n",
       "       [ 6.74061133e-01],\n",
       "       [ 5.86755540e-01],\n",
       "       [ 3.44847613e-02],\n",
       "       [ 8.75834371e-02],\n",
       "       [ 4.41718045e-01],\n",
       "       [ 9.30660630e-01],\n",
       "       [ 8.90141740e-01],\n",
       "       [-1.53181419e-02],\n",
       "       [ 6.42029061e-01],\n",
       "       [ 2.60186481e-01],\n",
       "       [ 6.66984000e-01],\n",
       "       [ 5.87672291e-01],\n",
       "       [ 5.87638158e-01],\n",
       "       [ 8.30728942e-01],\n",
       "       [ 8.92954393e-03],\n",
       "       [ 4.53174991e-01],\n",
       "       [ 8.72868214e-01],\n",
       "       [ 3.13763569e-01],\n",
       "       [ 2.81351582e-02],\n",
       "       [ 3.21418141e-01],\n",
       "       [ 4.75452568e-01],\n",
       "       [ 2.46241986e-01],\n",
       "       [ 2.14055814e-01],\n",
       "       [ 8.51673391e-01],\n",
       "       [ 7.27339734e-01],\n",
       "       [ 6.01540680e-01],\n",
       "       [ 8.68912117e-01],\n",
       "       [ 1.29966892e-01],\n",
       "       [ 5.45654364e-01],\n",
       "       [ 3.37277984e-01],\n",
       "       [ 2.85683567e-01],\n",
       "       [ 1.60463813e-01],\n",
       "       [ 8.69793623e-01],\n",
       "       [ 4.62782954e-01],\n",
       "       [ 9.53957024e-01],\n",
       "       [-2.98815948e-03],\n",
       "       [ 1.59148968e-01],\n",
       "       [ 4.23644157e-01],\n",
       "       [ 6.55434666e-01],\n",
       "       [ 5.80562541e-01],\n",
       "       [ 9.34022605e-01],\n",
       "       [ 2.87968201e-01],\n",
       "       [ 2.94653522e-01],\n",
       "       [ 1.03788078e-01],\n",
       "       [ 3.82030920e-01],\n",
       "       [ 4.26681378e-02],\n",
       "       [ 4.02086339e-01],\n",
       "       [ 8.18277864e-01],\n",
       "       [ 6.45561005e-01],\n",
       "       [ 1.76307870e-01],\n",
       "       [ 7.90000000e-01],\n",
       "       [ 1.41551846e-01],\n",
       "       [ 1.39282533e-01],\n",
       "       [ 3.15832535e-01],\n",
       "       [ 3.01181444e-02],\n",
       "       [ 1.38780557e-01],\n",
       "       [ 8.03504095e-01],\n",
       "       [ 3.10065717e-01],\n",
       "       [ 6.37477139e-01],\n",
       "       [ 2.58949566e-01],\n",
       "       [ 5.67745095e-01],\n",
       "       [ 2.80796946e-01],\n",
       "       [ 9.36881343e-01],\n",
       "       [ 8.17839889e-03],\n",
       "       [ 3.01931100e-01],\n",
       "       [ 1.00908866e-01],\n",
       "       [ 1.57554693e-01],\n",
       "       [ 6.15117794e-01],\n",
       "       [ 1.76321446e-01],\n",
       "       [ 2.37425719e-01],\n",
       "       [ 7.80746535e-01],\n",
       "       [ 2.95003517e-01],\n",
       "       [ 1.19405524e-01],\n",
       "       [ 4.65879850e-01],\n",
       "       [ 5.38869725e-01],\n",
       "       [ 3.19162495e-01],\n",
       "       [ 3.42682175e-01],\n",
       "       [ 7.92847405e-01],\n",
       "       [ 4.36425939e-01],\n",
       "       [ 3.89856263e-01],\n",
       "       [ 7.91456357e-01],\n",
       "       [ 1.14607945e-01],\n",
       "       [ 4.45170094e-01],\n",
       "       [ 1.03360182e+00],\n",
       "       [ 9.14419933e-01],\n",
       "       [ 4.85792829e-01],\n",
       "       [ 3.94869901e-01],\n",
       "       [ 9.58262069e-02],\n",
       "       [ 7.07105066e-01],\n",
       "       [ 3.83581737e-01],\n",
       "       [ 9.64371067e-01],\n",
       "       [ 3.39891742e-01],\n",
       "       [ 4.08783906e-01],\n",
       "       [ 6.09214280e-01],\n",
       "       [ 3.57630356e-01],\n",
       "       [ 4.50659851e-01],\n",
       "       [ 3.43356696e-01],\n",
       "       [ 4.56363150e-01],\n",
       "       [ 9.37099002e-02],\n",
       "       [ 5.05714862e-02],\n",
       "       [ 9.56465699e-01],\n",
       "       [ 3.98873585e-01],\n",
       "       [ 5.85946313e-01],\n",
       "       [ 4.75106761e-01],\n",
       "       [ 5.90038212e-01],\n",
       "       [ 7.03925288e-01],\n",
       "       [ 5.35962674e-01],\n",
       "       [ 4.60165484e-01],\n",
       "       [ 5.71694082e-01],\n",
       "       [ 6.70308884e-01],\n",
       "       [ 2.48093494e-01],\n",
       "       [ 3.72959515e-01],\n",
       "       [ 9.87598034e-01],\n",
       "       [ 6.96734672e-01],\n",
       "       [ 4.70017398e-01],\n",
       "       [ 3.79359307e-01],\n",
       "       [ 3.60048773e-01],\n",
       "       [ 2.67592368e-01],\n",
       "       [ 3.74825397e-01],\n",
       "       [ 1.20512094e-01],\n",
       "       [ 2.94507414e-01],\n",
       "       [ 7.77186118e-02],\n",
       "       [ 8.20889089e-01],\n",
       "       [ 6.02888436e-01],\n",
       "       [ 6.40285637e-01],\n",
       "       [ 4.82689112e-01],\n",
       "       [ 3.07802237e-01],\n",
       "       [ 3.99644128e-01],\n",
       "       [ 5.55630965e-01],\n",
       "       [ 7.88656240e-01],\n",
       "       [ 3.54787778e-01],\n",
       "       [ 4.41333727e-01],\n",
       "       [ 6.47154777e-01],\n",
       "       [ 8.94691832e-01],\n",
       "       [ 6.09981500e-01],\n",
       "       [ 8.23738924e-01],\n",
       "       [ 1.79131265e-01],\n",
       "       [ 6.70025913e-01],\n",
       "       [ 3.07996656e-01],\n",
       "       [ 2.62677703e-01],\n",
       "       [ 5.71101619e-01],\n",
       "       [ 4.28965283e-01],\n",
       "       [ 8.73595975e-01],\n",
       "       [ 4.66195015e-01],\n",
       "       [ 3.51737563e-01],\n",
       "       [ 7.07694707e-01],\n",
       "       [ 7.17684114e-02],\n",
       "       [ 3.24793476e-01],\n",
       "       [ 5.27913068e-01],\n",
       "       [ 3.88756739e-01],\n",
       "       [ 9.37688874e-01],\n",
       "       [ 1.68477123e-01],\n",
       "       [ 7.86464770e-02],\n",
       "       [ 9.78502391e-02],\n",
       "       [ 2.59858556e-01],\n",
       "       [ 2.52189648e-01],\n",
       "       [ 6.12581467e-02],\n",
       "       [ 5.92716770e-01],\n",
       "       [ 8.79113521e-01],\n",
       "       [ 7.38289675e-01],\n",
       "       [ 2.01365239e-01],\n",
       "       [ 5.60552768e-01],\n",
       "       [ 2.90226156e-01],\n",
       "       [ 6.94002876e-01],\n",
       "       [ 6.21148233e-01],\n",
       "       [ 8.44284667e-02],\n",
       "       [ 4.11767096e-01],\n",
       "       [ 7.24581236e-01],\n",
       "       [ 7.58347872e-01],\n",
       "       [ 5.22336089e-01],\n",
       "       [ 6.43503590e-01],\n",
       "       [ 6.49969131e-01],\n",
       "       [ 8.18082032e-01],\n",
       "       [ 1.14014600e+00],\n",
       "       [ 5.94973041e-01],\n",
       "       [-8.11075079e-02],\n",
       "       [ 4.15112429e-01],\n",
       "       [ 5.33683309e-01],\n",
       "       [ 2.67552222e-01],\n",
       "       [ 1.91984120e-01],\n",
       "       [ 2.64843282e-01],\n",
       "       [ 1.01147358e+00],\n",
       "       [ 2.43058731e-01],\n",
       "       [ 3.26323002e-01],\n",
       "       [ 4.04977454e-01],\n",
       "       [ 5.81852376e-01],\n",
       "       [ 1.34113911e-01],\n",
       "       [ 3.81468487e-01],\n",
       "       [ 2.05194186e-01],\n",
       "       [ 1.61431931e-01],\n",
       "       [ 4.25295528e-01],\n",
       "       [ 6.37018063e-01],\n",
       "       [ 2.31196025e-01],\n",
       "       [ 3.80540439e-01],\n",
       "       [ 5.62489035e-01],\n",
       "       [ 1.47688666e-01],\n",
       "       [ 3.59089324e-01],\n",
       "       [ 3.47036334e-01],\n",
       "       [ 2.47191415e-01],\n",
       "       [ 5.54789439e-01],\n",
       "       [ 7.76971880e-01],\n",
       "       [ 1.48697890e-01]])"
      ]
     },
     "execution_count": 38,
     "metadata": {},
     "output_type": "execute_result"
    }
   ],
   "source": [
    "y_train_pred.reshape(-1,1)"
   ]
  },
  {
   "cell_type": "code",
   "execution_count": 207,
   "metadata": {
    "slideshow": {
     "slide_type": "slide"
    }
   },
   "outputs": [
    {
     "data": {
      "text/plain": [
       "0.14569121338912133"
      ]
     },
     "execution_count": 207,
     "metadata": {},
     "output_type": "execute_result"
    }
   ],
   "source": [
    "mean_squared_error(y_train_pred.reshape(-1,1),  y_train)\n",
    "\n",
    "\n"
   ]
  },
  {
   "cell_type": "code",
   "execution_count": 208,
   "metadata": {},
   "outputs": [
    {
     "name": "stdout",
     "output_type": "stream",
     "text": [
      "[-3.66188167e+00  6.98124465e-01 -2.61955467e-01 -2.85270027e-01\n",
      " -1.64740837e-01  2.46972333e-01 -1.09290051e+00 -5.96857796e-01\n",
      "  1.11200239e+00 -7.21968931e-01  4.27346598e+00 -2.28040268e-01\n",
      "  8.04875769e-01 -2.57934732e-01 -2.63458023e-01 -1.04616958e+00\n",
      "  6.07784197e-01  7.73552561e-01  5.96468029e-02  6.90215922e-01\n",
      "  2.16759430e-02 -4.87802949e-01 -5.18858404e-01  1.39478815e-01\n",
      " -1.24417942e-01  3.15003821e-01 -1.52633736e-01 -9.65003927e-01\n",
      "  1.17142163e+00 -3.08546690e-02 -9.29085548e-01  1.24654586e-01\n",
      "  1.98104506e-01  7.30804821e-01 -1.77337294e-01  8.32927588e-02\n",
      "  3.46045601e-01  5.01837338e-01  1.57062958e+00 -4.13478807e-01\n",
      "  1.39350802e+00 -3.49428114e+00  7.09577818e-01 -8.32141352e-01\n",
      " -1.39984927e+00  1.02482840e+00  2.13855006e-01 -6.18937325e-01\n",
      "  5.28954490e-01  7.98294890e-02  5.93688560e-02 -1.68582667e-01\n",
      "  7.31264051e-01 -1.39635208e+00  2.38507704e-01  5.50621439e-01\n",
      " -5.61447867e-01  6.18989764e-01  2.55517024e+00 -3.71769599e+00\n",
      "  7.09191935e-01  3.82041439e-01  8.23752836e-01 -1.67703547e+00\n",
      " -1.73150450e+00  9.90120171e-01 -5.72745697e-01 -1.45877295e+00\n",
      "  8.68032144e-01  5.15959984e-01  3.14453207e-02  2.01869791e-01\n",
      "  9.65291940e-02  2.13034099e+00 -6.95374423e-02  4.62477023e-02\n",
      " -1.10565955e-02 -1.34313780e-02 -1.04515494e-01 -8.76985171e-01\n",
      "  4.26781907e-01 -1.85405795e-01 -8.16215517e-01 -2.86596076e-01\n",
      " -1.56110708e-01  1.76468580e+00 -5.70163730e-01 -7.54066704e-02\n",
      " -1.74212697e-01 -8.89747220e-02  2.26336403e-01  1.38030073e+00\n",
      " -3.37304744e-01 -2.57856611e-02  8.91299188e-02  3.49876793e-01\n",
      " -1.22428557e+00 -3.67941205e+01 -6.95699750e-01  2.95269279e-01\n",
      " -1.48590316e-03  2.34206416e-01 -7.09533984e-03  3.67152957e+01\n",
      " -8.90665109e-02  3.79550678e-02  3.19375782e-01  4.60708905e-01\n",
      "  1.41090069e-01 -6.67017320e-01 -2.59035245e-01 -4.60600755e-04\n",
      " -1.51868232e-02  7.54768410e-02 -2.36105498e-03 -1.50328233e-01\n",
      "  1.85575558e-01  6.31979224e-01 -1.50253625e-01  1.87638817e-02\n",
      " -3.38095851e-02 -4.46104032e-01]\n"
     ]
    }
   ],
   "source": [
    "# examine the coefficients\n",
    "print(linreg.coef_)\n",
    "\n",
    "\n",
    "# make predictions on the training set\n",
    "# ILLUSTRATION PURPOSE ONLY\n",
    "y_train_pred = linreg.predict(X_train)"
   ]
  },
  {
   "cell_type": "code",
   "execution_count": 209,
   "metadata": {},
   "outputs": [
    {
     "data": {
      "text/plain": [
       "0.1459018637259146"
      ]
     },
     "execution_count": 209,
     "metadata": {},
     "output_type": "execute_result"
    }
   ],
   "source": [
    "# calculate RMSE\n",
    "\n",
    "np.sqrt(mean_squared_error(y_train_pred.reshape(-1,1),  y_train))"
   ]
  },
  {
   "cell_type": "code",
   "execution_count": 210,
   "metadata": {},
   "outputs": [
    {
     "data": {
      "text/plain": [
       "0.15321896777219"
      ]
     },
     "execution_count": 210,
     "metadata": {},
     "output_type": "execute_result"
    }
   ],
   "source": [
    "\n",
    "y_test_pred = linreg.predict(X_test)\n",
    "np.sqrt(mean_squared_error(y_test_pred.reshape(-1,1),  y_test))"
   ]
  },
  {
   "cell_type": "markdown",
   "metadata": {
    "slideshow": {
     "slide_type": "slide"
    }
   },
   "source": [
    "### Using a Decision Tree Regressor\n",
    "\n",
    "- A powerful (relatively speaking) model, which is ideal for finding complex, non-linear relationships in the data\n"
   ]
  },
  {
   "cell_type": "code",
   "execution_count": 211,
   "metadata": {},
   "outputs": [
    {
     "data": {
      "text/plain": [
       "DecisionTreeRegressor(criterion='mse', max_depth=None, max_features=None,\n",
       "           max_leaf_nodes=None, min_impurity_decrease=0.0,\n",
       "           min_impurity_split=None, min_samples_leaf=1,\n",
       "           min_samples_split=2, min_weight_fraction_leaf=0.0,\n",
       "           presort=False, random_state=None, splitter='best')"
      ]
     },
     "execution_count": 211,
     "metadata": {},
     "output_type": "execute_result"
    }
   ],
   "source": [
    "from sklearn.tree import DecisionTreeRegressor\n",
    "\n",
    "tree_reg = DecisionTreeRegressor()\n",
    "tree_reg.fit(X_train, y_train)"
   ]
  },
  {
   "cell_type": "code",
   "execution_count": 212,
   "metadata": {},
   "outputs": [
    {
     "data": {
      "text/plain": [
       "'/Users/mahdi/Desktop/regressor.pdf'"
      ]
     },
     "execution_count": 212,
     "metadata": {},
     "output_type": "execute_result"
    }
   ],
   "source": [
    "from sklearn import tree\n",
    "dot_data = tree.export_graphviz(tree_reg, out_file=None)\n",
    "# you may need to install this graphviz\n",
    "# conda install pip && pip install graphviz\n",
    "import graphviz\n",
    "graph = graphviz.Source(dot_data)\n",
    "graph.render(\"/Users/mahdi/Desktop/regressor\") "
   ]
  },
  {
   "cell_type": "code",
   "execution_count": 213,
   "metadata": {},
   "outputs": [
    {
     "name": "stdout",
     "output_type": "stream",
     "text": [
      "[1.   0.23 0.75 0.18 0.75 0.39 0.21 0.55 0.18 1.  ]\n",
      "[1.0, 0.23, 0.75, 0.18, 0.75, 0.39, 0.21, 0.55, 0.18, 1.0]\n"
     ]
    }
   ],
   "source": [
    "y_train_pred = tree_reg.predict(X_train)\n",
    "\n",
    "print(y_train_pred[0:10])\n",
    "print(y_train.tolist()[0:10])\n"
   ]
  },
  {
   "cell_type": "code",
   "execution_count": 82,
   "metadata": {},
   "outputs": [
    {
     "data": {
      "text/plain": [
       "0.0"
      ]
     },
     "execution_count": 82,
     "metadata": {},
     "output_type": "execute_result"
    }
   ],
   "source": [
    "np.round(np.sqrt(mean_squared_error(y_train_pred.reshape(-1,1),  y_train)), 2)"
   ]
  },
  {
   "cell_type": "markdown",
   "metadata": {},
   "source": [
    "### OVERFITTING and RMSE\n",
    "\n",
    "* Despite the fact that RMSE=0, it is very unlikely that the model is perfect\n",
    "* The RMSE of 0 is due to the model overfitting the training data\n",
    "  * The model \"Remembers\" the data perfectly and predicts observation as it saw them\n",
    "  \n",
    "* You will remember that models that overfit the data tend to have poor generalizaiton power\n",
    "  * Computing the RMSE on the test data shows that them model is overfitting\n"
   ]
  },
  {
   "cell_type": "code",
   "execution_count": 83,
   "metadata": {},
   "outputs": [
    {
     "data": {
      "text/plain": [
       "0.21"
      ]
     },
     "execution_count": 83,
     "metadata": {},
     "output_type": "execute_result"
    }
   ],
   "source": [
    "y_test_pred = tree_reg.predict(X_test)\n",
    "\n",
    "np.round(np.sqrt(mean_squared_error(y_test_pred.reshape(-1,1),  y_test)), 2)"
   ]
  },
  {
   "cell_type": "markdown",
   "metadata": {},
   "source": [
    "### OVERFITTING and RMSE - Cont'd\n",
    "\n",
    "<img src=\"images/overfitting.png\" alt=\"drawing\" style=\"width:1000px;\"/>\n",
    "\n",
    "\n",
    "\n",
    "\n"
   ]
  },
  {
   "cell_type": "markdown",
   "metadata": {},
   "source": [
    "### Assessing a Model's Generalization Power\n",
    "\n",
    "* As discussed earlier, the best statistical learning methods is used based on it's  results in a low test error\n",
    "\n",
    "  * You cannot use the test set for minimizing overfit since the model will learn to fit the test set.\n",
    "  * You are specifically selecting the model that does best on the test data \n",
    "  \n",
    "* The Decisin tree is a complex model:\n",
    "  * Has a plethora or a param that can impact the RMSE\n",
    "  * The test error rate can be highly variable, depending which observations are in which set (train and test)\n",
    "\n",
    "* How do we test the performance of different params, overfitting while mitigating variance across different runs"
   ]
  },
  {
   "cell_type": "code",
   "execution_count": 206,
   "metadata": {},
   "outputs": [
    {
     "data": {
      "text/plain": [
       "0.17"
      ]
     },
     "execution_count": 206,
     "metadata": {},
     "output_type": "execute_result"
    }
   ],
   "source": [
    "\n",
    "tree_reg = DecisionTreeRegressor(max_depth=3)\n",
    "tree_reg.fit(X_train, y_train)\n",
    "y_test_pred = tree_reg.predict(X_test)\n",
    "np.round(np.sqrt(mean_squared_error(y_test_pred.reshape(-1,1),  y_test)), 2)"
   ]
  },
  {
   "cell_type": "code",
   "execution_count": 113,
   "metadata": {
    "slideshow": {
     "slide_type": "slide"
    }
   },
   "outputs": [
    {
     "data": {
      "text/plain": [
       "(array([  6.,  39.,  84., 132., 114.,  68.,  36.,  18.,   1.,   2.]),\n",
       " array([0.16 , 0.169, 0.178, 0.187, 0.196, 0.205, 0.214, 0.223, 0.232,\n",
       "        0.241, 0.25 ]),\n",
       " <a list of 10 Patch objects>)"
      ]
     },
     "execution_count": 113,
     "metadata": {},
     "output_type": "execute_result"
    },
    {
     "data": {
      "image/png": "[encoded data removed]",
      "text/plain": [
       "<Figure size 864x432 with 1 Axes>"
      ]
     },
     "metadata": {
      "needs_background": "light"
     },
     "output_type": "display_data"
    }
   ],
   "source": [
    "rmse = []\n",
    "for i in range(500):\n",
    "    X_train, X_test, y_train, y_test = train_test_split(X, y)\n",
    "    tree_reg = DecisionTreeRegressor(max_depth=3)\n",
    "    tree_reg.fit(X_train, y_train)\n",
    "    y_test_pred = tree_reg.predict(X_test)\n",
    "    rmse.append(np.round(np.sqrt(mean_squared_error(y_test_pred.reshape(-1,1),  y_test)), 2))\n",
    "\n",
    "plt.figure(figsize=(12,6))\n",
    "plt.hist(rmse, edgecolor='black', linewidth=1.2)"
   ]
  },
  {
   "cell_type": "markdown",
   "metadata": {},
   "source": [
    "### Assessing a Model's Generalization Power - Cont'd\n",
    "\n",
    "* You don't want to use the test data until you have completed all your tests on parameterizing the model\n",
    "\n",
    "  * You cannot use the test set for minimizing overfit since the model will learn to fit the test set.\n",
    "\n",
    "\n",
    "\n",
    "* To explore which models are best for the decision tree regressor, we can split the training set into:\n",
    "\n",
    "  * A smaller training set: used to train the model\n",
    "  \n",
    "  * validation set: after the training (before the testing) to minimize overfitting \n",
    "\n"
   ]
  },
  {
   "cell_type": "markdown",
   "metadata": {},
   "source": [
    "### The Train / Validation / Test  Approach\n",
    "\n",
    "* Train the decision tree regressor on the new, smaller training set\n",
    "\n",
    "\n",
    "\n",
    "* Explore different parameters if needed \n",
    "  * choose those perform best on the validation set\n",
    "  \n",
    "  \n",
    "* Only use the test set to compare the decision tree regressor against other models\n",
    "  * Choose the model with the smallest generalization error\n",
    "\n"
   ]
  },
  {
   "cell_type": "markdown",
   "metadata": {},
   "source": [
    "### Shortcomings of the Train / Validation / Test  Approach\n",
    "\n",
    "\n",
    "* Since statistical methods tend to perform worse when trained to learn complex model using fewer observations\n",
    "  * Less data to learn the model \n",
    "  * Validation set error rate may tend to overestimate the test error rate\n",
    "\n",
    "\n",
    "* Wastes another chunk of data (validation set), which cannot be used in training\n",
    "\n",
    "* A good alternative to the training/validation/test is a method called K-fold cross-validation"
   ]
  },
  {
   "cell_type": "markdown",
   "metadata": {
    "slideshow": {
     "slide_type": "slide"
    }
   },
   "source": [
    "<img src=\"images/cross_validation.png\" alt=\"drawing\" style=\"width:800px;\"/>\n",
    "\n"
   ]
  },
  {
   "cell_type": "markdown",
   "metadata": {
    "slideshow": {
     "slide_type": "slide"
    }
   },
   "source": [
    "### $K$-Fold Cross Validation\n",
    "\n",
    "* Cross-validation is applied on the training set\n",
    "\n",
    "\n",
    "* We use the following algorithm to train/validate using $K$-fold cross-validation\n",
    "  * The training set is split into $K$ complementary chunks of data\n",
    "  * We consider $K-1$ chunk as training and 1 chunk as testing\n",
    "  * We repeat the training/testing k-times and average the estimates (ex. RMSE) into a single cross-validation estimate\n",
    "\n",
    "* Once we find the best model params, we then use them to train on the full training set\n",
    "\n",
    "* It's common to use $K=10$ for cross-validation"
   ]
  },
  {
   "cell_type": "code",
   "execution_count": 30,
   "metadata": {
    "collapsed": true,
    "slideshow": {
     "slide_type": "slide"
    }
   },
   "outputs": [],
   "source": [
    "from sklearn.model_selection import cross_val_score"
   ]
  },
  {
   "cell_type": "code",
   "execution_count": 118,
   "metadata": {
    "slideshow": {
     "slide_type": "slide"
    }
   },
   "outputs": [
    {
     "data": {
      "text/plain": [
       "0.185395619248039"
      ]
     },
     "execution_count": 118,
     "metadata": {},
     "output_type": "execute_result"
    }
   ],
   "source": [
    "from sklearn.model_selection import cross_val_score\n",
    "\n",
    "scores = cross_val_score(tree_reg, X_train, y_train,\n",
    "                        scoring='neg_mean_squared_error', cv=10, )\n",
    "\n",
    "tree_reg_rmse = np.sqrt(np.mean(-scores))\n",
    "\n",
    "tree_reg_rmse"
   ]
  },
  {
   "cell_type": "markdown",
   "metadata": {
    "slideshow": {
     "slide_type": "slide"
    }
   },
   "source": [
    "### Scoring the $K$ Data Chunks\n",
    "\n",
    "* for scoring the $k$ subsets, we used a function called \"neg_mean_squared_error\". This is simply:\n",
    "\n",
    "$$ \n",
    "-1 \\times MSE\n",
    "$$\n",
    "\n",
    "* The reason for this is that `cross_val_score` requires similarity function ( as opposed to a distance function).\n",
    " * In MSE, the lower the score the better\n",
    " * In cross_val_score scoring scheme, the greater the score, the better the model\n",
    "\n",
    "See link below for available scoring functions for regression:\n",
    "http://scikit-learn.org/stable/modules/model_evaluation.html"
   ]
  },
  {
   "cell_type": "markdown",
   "metadata": {},
   "source": [
    "### Random Forest Regressor\n",
    "\n",
    "* Random Forests works by training many Decision Tree Regressors on random subsets of the features\n",
    "  * Averaging out the predictions\n",
    "\n",
    "* In general, the class of models wich work by averaging outcomes of a set of other models is called ensemble methods   * Subsert of of ensembl machine learning\n"
   ]
  },
  {
   "cell_type": "code",
   "execution_count": 190,
   "metadata": {},
   "outputs": [],
   "source": [
    "from sklearn.ensemble import RandomForestRegressor\n",
    "\n",
    "forest_reg = RandomForestRegressor(n_estimators=50, max_depth=3, max_features=10)\n",
    "\n"
   ]
  },
  {
   "cell_type": "markdown",
   "metadata": {},
   "source": [
    "### Radnom Forest Parameters\n",
    "\n",
    "\n",
    "* The number of n_estimators in the  RandomForestRegressor defines the number of trees in the ensemble (forest)\n",
    "\n",
    "* `max_features` is the maximum number of features to consider when looking for the best split\n",
    "\n",
    "\n",
    "* The RandomForest Model yields a slightly lower error value than both the DecisionTreeRegressor and the LinearRegression models\n"
   ]
  },
  {
   "cell_type": "code",
   "execution_count": 191,
   "metadata": {},
   "outputs": [
    {
     "data": {
      "text/plain": [
       "array([0.18216631, 0.16844488, 0.19571895, 0.13454032, 0.15075147,\n",
       "       0.17043042, 0.17441722, 0.1940984 , 0.19984094, 0.18913779])"
      ]
     },
     "execution_count": 191,
     "metadata": {},
     "output_type": "execute_result"
    }
   ],
   "source": [
    "scores = cross_val_score(forest_reg, X_train, y_train,\n",
    "                        scoring='neg_mean_squared_error', cv=10)\n",
    "forest_reg_rmse = np.sqrt(-scores)\n",
    "forest_reg_rmse"
   ]
  },
  {
   "cell_type": "code",
   "execution_count": 192,
   "metadata": {},
   "outputs": [
    {
     "name": "stdout",
     "output_type": "stream",
     "text": [
      "score are [0.18216631 0.16844488 0.19571895 0.13454032 0.15075147 0.17043042\n",
      " 0.17441722 0.1940984  0.19984094 0.18913779]\n",
      "\n",
      "mean score is 0.17595467047035943\n"
     ]
    }
   ],
   "source": [
    "print (\"score are %s\\n\" % forest_reg_rmse)\n",
    "print (\"mean score is %s\"  % np.mean(forest_reg_rmse))\n"
   ]
  },
  {
   "cell_type": "markdown",
   "metadata": {},
   "source": [
    "### Using Grid Search For Finding Params That Minimize Loss\n",
    "\n",
    "- Scikit-Learn offers GridSearchCV (Grid Search Cross-Validation)\n",
    "  - Takes a list of parameters and some values and exhaustively tries the values using cross-validation\n"
   ]
  },
  {
   "cell_type": "code",
   "execution_count": 194,
   "metadata": {},
   "outputs": [],
   "source": [
    "from sklearn.model_selection import GridSearchCV\n",
    "\n",
    "grid_search_params = [{'n_estimators':[3, 9, 27, 50, 81], 'max_features': [2, 3, 4, 5, 7, 9, 11]}]\n",
    "\n",
    "forest_reg = RandomForestRegressor()\n",
    "\n",
    "grid_search = GridSearchCV(forest_reg, \n",
    "                           param_grid=grid_search_params, \n",
    "                           cv=10, \n",
    "                           scoring = 'neg_mean_squared_error'\n",
    "                          )"
   ]
  },
  {
   "cell_type": "markdown",
   "metadata": {},
   "source": [
    "* The above search cases represent 35 different combination for `n_estimators` and `max_features`\n",
    "\n",
    " * Each of the tests is carried out using cros-validation with k=10"
   ]
  },
  {
   "cell_type": "code",
   "execution_count": 195,
   "metadata": {},
   "outputs": [
    {
     "data": {
      "text/plain": [
       "GridSearchCV(cv=10, error_score='raise-deprecating',\n",
       "       estimator=RandomForestRegressor(bootstrap=True, criterion='mse', max_depth=None,\n",
       "           max_features='auto', max_leaf_nodes=None,\n",
       "           min_impurity_decrease=0.0, min_impurity_split=None,\n",
       "           min_samples_leaf=1, min_samples_split=2,\n",
       "           min_weight_fraction_leaf=0.0, n_estimators='warn', n_jobs=None,\n",
       "           oob_score=False, random_state=None, verbose=0, warm_start=False),\n",
       "       fit_params=None, iid='warn', n_jobs=None,\n",
       "       param_grid=[{'n_estimators': [3, 9, 27, 50, 81], 'max_features': [2, 3, 4, 5, 7, 9, 11]}],\n",
       "       pre_dispatch='2*n_jobs', refit=True, return_train_score='warn',\n",
       "       scoring='neg_mean_squared_error', verbose=0)"
      ]
     },
     "execution_count": 195,
     "metadata": {},
     "output_type": "execute_result"
    }
   ],
   "source": [
    "grid_search.fit(X_train, y_train)"
   ]
  },
  {
   "cell_type": "code",
   "execution_count": 177,
   "metadata": {},
   "outputs": [
    {
     "data": {
      "text/plain": [
       "{'max_features': 11, 'n_estimators': 81}"
      ]
     },
     "execution_count": 177,
     "metadata": {},
     "output_type": "execute_result"
    }
   ],
   "source": [
    "grid_search.best_params_"
   ]
  },
  {
   "cell_type": "markdown",
   "metadata": {},
   "source": [
    "\n",
    "- The best estimators was generated from `max_features = 3` and `n_estimators = 27`\n",
    "- You can also see all the results for all the values passed"
   ]
  },
  {
   "cell_type": "code",
   "execution_count": 178,
   "metadata": {},
   "outputs": [
    {
     "name": "stdout",
     "output_type": "stream",
     "text": [
      "{'max_features': 2, 'n_estimators': 3} 0.2122318364294934\n",
      "{'max_features': 2, 'n_estimators': 9} 0.1911920055188689\n",
      "{'max_features': 2, 'n_estimators': 27} 0.1814166511338128\n",
      "{'max_features': 2, 'n_estimators': 50} 0.18354632491314377\n",
      "{'max_features': 2, 'n_estimators': 81} 0.17810163005472676\n",
      "{'max_features': 3, 'n_estimators': 3} 0.21898279271519566\n",
      "{'max_features': 3, 'n_estimators': 9} 0.19467392979833542\n",
      "{'max_features': 3, 'n_estimators': 27} 0.1804823857271383\n",
      "{'max_features': 3, 'n_estimators': 50} 0.18473204794985887\n",
      "{'max_features': 3, 'n_estimators': 81} 0.17441718788341606\n",
      "{'max_features': 4, 'n_estimators': 3} 0.21297367695510802\n",
      "{'max_features': 4, 'n_estimators': 9} 0.18668281294318606\n",
      "{'max_features': 4, 'n_estimators': 27} 0.1707429845494319\n",
      "{'max_features': 4, 'n_estimators': 50} 0.17344498651526463\n",
      "{'max_features': 4, 'n_estimators': 81} 0.17464054675231\n",
      "{'max_features': 5, 'n_estimators': 3} 0.19576276214414706\n",
      "{'max_features': 5, 'n_estimators': 9} 0.18205405774699385\n",
      "{'max_features': 5, 'n_estimators': 27} 0.18194212830871162\n",
      "{'max_features': 5, 'n_estimators': 50} 0.17524941509043546\n",
      "{'max_features': 5, 'n_estimators': 81} 0.17474043577778103\n",
      "{'max_features': 7, 'n_estimators': 3} 0.2042375350206153\n",
      "{'max_features': 7, 'n_estimators': 9} 0.18186533124433304\n",
      "{'max_features': 7, 'n_estimators': 27} 0.1830746256737467\n",
      "{'max_features': 7, 'n_estimators': 50} 0.17508907714999955\n",
      "{'max_features': 7, 'n_estimators': 81} 0.1703508365237497\n",
      "{'max_features': 9, 'n_estimators': 3} 0.2009453483111846\n",
      "{'max_features': 9, 'n_estimators': 9} 0.18103341620810354\n",
      "{'max_features': 9, 'n_estimators': 27} 0.17612163785757903\n",
      "{'max_features': 9, 'n_estimators': 50} 0.17106872826672612\n",
      "{'max_features': 9, 'n_estimators': 81} 0.1704783174433507\n",
      "{'max_features': 11, 'n_estimators': 3} 0.20767401949413372\n",
      "{'max_features': 11, 'n_estimators': 9} 0.17900221929959265\n",
      "{'max_features': 11, 'n_estimators': 27} 0.17573541929373016\n",
      "{'max_features': 11, 'n_estimators': 50} 0.17363386429050032\n",
      "{'max_features': 11, 'n_estimators': 81} 0.16997224590636223\n"
     ]
    }
   ],
   "source": [
    "cv_scores = grid_search.cv_results_\n",
    "for i in range(len(cv_scores['params'])):\n",
    "    params, mean_score =  cv_scores['params'][i], cv_scores['mean_test_score'][i]\n",
    "    print(params, np.sqrt(-mean_score))\n"
   ]
  },
  {
   "cell_type": "code",
   "execution_count": 46,
   "metadata": {},
   "outputs": [
    {
     "data": {
      "text/plain": [
       "RandomForestRegressor(bootstrap=True, criterion='mse', max_depth=None,\n",
       "           max_features=3, max_leaf_nodes=None, min_impurity_split=1e-07,\n",
       "           min_samples_leaf=1, min_samples_split=2,\n",
       "           min_weight_fraction_leaf=0.0, n_estimators=27, n_jobs=1,\n",
       "           oob_score=False, random_state=None, verbose=0, warm_start=False)"
      ]
     },
     "execution_count": 46,
     "metadata": {},
     "output_type": "execute_result"
    }
   ],
   "source": [
    "grid_search.best_estimator_"
   ]
  },
  {
   "cell_type": "code",
   "execution_count": 196,
   "metadata": {},
   "outputs": [],
   "source": [
    "# Let's predict the new values using this best estimator found uisng the grid search\n",
    "\n",
    "training_set_predictions_rand_forest = grid_search.best_estimator_.predict(X_train)\n"
   ]
  },
  {
   "cell_type": "code",
   "execution_count": 200,
   "metadata": {},
   "outputs": [
    {
     "data": {
      "text/plain": [
       "Text(0, 0.5, 'Measured  a1')"
      ]
     },
     "execution_count": 200,
     "metadata": {},
     "output_type": "execute_result"
    },
    {
     "data": {
      "image/png": "[encoded data removed]",
      "text/plain": [
       "<Figure size 720x576 with 1 Axes>"
      ]
     },
     "metadata": {
      "needs_background": "light"
     },
     "output_type": "display_data"
    }
   ],
   "source": [
    "plt.figure(figsize=(10,8))\n",
    "\n",
    "plt.scatter(training_set_predictions_rand_forest, y_train.values)\n",
    "plt.plot(\n",
    "    [0,1.5],\n",
    "    [0,1.5],\n",
    "    color='r', linewidth =2, linestyle = '--')\n",
    "\n",
    "plt.xlabel(\"Prediction for a1\")\n",
    "plt.ylabel(\"Measured  a1\")\n",
    "\n"
   ]
  },
  {
   "cell_type": "markdown",
   "metadata": {
    "collapsed": true,
    "slideshow": {
     "slide_type": "slide"
    }
   },
   "source": [
    "### Testing\n",
    "\n",
    "* Once we have tweaked all the parameters for all models, we can use the test data to compare the models' generalization performance\n",
    "\n",
    "* The approach is the same as that followed above:\n",
    " * For each of model, we run the prediction on test data and compare the predicted with the observed values \n",
    " * We select the model that makes the smallest error\n",
    "* We determine whether the generalized performance is sufficient for our application\n",
    "  - The performance requirements for a patient-facing application are perhaps not the same as those for an application for predicting algae blooms\n",
    "  \n",
    "* Not that in this approach, we are rewarding models that generalize well even if they are more complex \n",
    " * We don't penalize complex models if they result is high generalization performance\n",
    " * Between models with relatively similar generalization performance, we need to choose the one with fewer parameters\n"
   ]
  }
 ],
 "metadata": {
  "celltoolbar": "Slideshow",
  "hide_input": false,
  "kernelspec": {
   "display_name": "Python 3",
   "language": "python",
   "name": "python3"
  },
  "language_info": {
   "codemirror_mode": {
    "name": "ipython",
    "version": 3
   },
   "file_extension": ".py",
   "mimetype": "text/x-python",
   "name": "python",
   "nbconvert_exporter": "python",
   "pygments_lexer": "ipython3",
   "version": "3.7.3"
  }
 },
 "nbformat": 4,
 "nbformat_minor": 2
}
